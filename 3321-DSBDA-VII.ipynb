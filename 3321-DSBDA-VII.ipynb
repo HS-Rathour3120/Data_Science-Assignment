{
 "cells": [
  {
   "cell_type": "code",
   "execution_count": 1,
   "id": "74e3393f-629b-4452-a5a1-802e94a8e34c",
   "metadata": {
    "tags": []
   },
   "outputs": [],
   "source": [
    "import nltk\n",
    "from nltk.tokenize import word_tokenize\n",
    "from nltk.corpus import stopwords\n",
    "from nltk.stem import PorterStemmer, WordNetLemmatizer\n",
    "from nltk import pos_tag"
   ]
  },
  {
   "cell_type": "code",
   "execution_count": 8,
   "id": "81c5e08d-4996-4b40-b45c-71767f29872c",
   "metadata": {
    "tags": []
   },
   "outputs": [
    {
     "name": "stdout",
     "output_type": "stream",
     "text": [
      "Term Frequency - Inverse Document Frequency (TF-IDF) for the given document:\n",
      "\n",
      "applications - 0.0\n",
      "actions - 0.0\n",
      "new - 0.0\n",
      "including - 0.0\n",
      "uses - 0.0\n",
      "without - 0.0\n",
      "enables - 0.0\n",
      "( - 0.0\n",
      "AI - 0.0\n",
      "take - 0.0\n",
      "data - 0.0\n",
      "diagnosis - 0.0\n",
      "systems - 0.0\n",
      "find - 0.0\n",
      "learning - 0.0\n",
      "fraud - 0.0\n",
      "used - 0.0\n",
      "medical - 0.0\n",
      "speech - 0.0\n",
      ". - 0.0\n",
      "recognition - 0.0\n",
      "experience - 0.0\n",
      "programmed - 0.0\n",
      "detection - 0.0\n",
      "predictions - 0.0\n",
      ") - 0.0\n",
      ", - 0.0\n",
      "make - 0.0\n",
      "subfield - 0.0\n",
      "artificial - 0.0\n",
      "variety - 0.0\n",
      "patterns - 0.0\n",
      "input - 0.0\n",
      "image - 0.0\n",
      "explicitly - 0.0\n",
      "algorithms - 0.0\n",
      "learn - 0.0\n",
      "based - 0.0\n",
      "intelligence - 0.0\n",
      "improve - 0.0\n",
      "Machine - 0.0\n"
     ]
    }
   ],
   "source": [
    "import nltk\n",
    "import math\n",
    "\n",
    "# Sample document\n",
    "doc = \"Machine learning is a subfield of artificial intelligence (AI) that enables systems to learn and improve from experience without being explicitly programmed. It uses algorithms to find patterns in data, which can then be used to make predictions or take actions based on new input. Machine learning is used in a variety of applications, including image and speech recognition, medical diagnosis, and fraud detection.\"\n",
    "\n",
    "# Tokenization\n",
    "tokens = nltk.word_tokenize(doc)\n",
    "\n",
    "# POS tagging\n",
    "pos_tags = nltk.pos_tag(tokens)\n",
    "\n",
    "# Stop words removal\n",
    "stop_words = set(nltk.corpus.stopwords.words('english'))\n",
    "filtered_tokens = [word for word in tokens if word.lower() not in stop_words]\n",
    "\n",
    "# Stemming\n",
    "stemmer = nltk.stem.PorterStemmer()\n",
    "stemmed_tokens = [stemmer.stem(token) for token in filtered_tokens]\n",
    "\n",
    "# Lemmatization\n",
    "lemmatizer = nltk.stem.WordNetLemmatizer()\n",
    "lemmatized_tokens = [lemmatizer.lemmatize(token) for token in filtered_tokens]\n",
    "\n",
    "# Calculate term frequency\n",
    "def get_tf(doc, word):\n",
    "    tokens = filtered_tokens\n",
    "    return tokens.count(word) / len(tokens)\n",
    "\n",
    "# Calculate inverse document frequency\n",
    "def get_idf(docs, word):\n",
    "    N = len(docs)\n",
    "    n = sum(1 for doc in docs if word in doc)\n",
    "    return math.log10(N / n)\n",
    "\n",
    "# Calculate TF-IDF for each word in the document\n",
    "tf_idf = {}\n",
    "docs = [doc]\n",
    "for word in set(filtered_tokens):\n",
    "    tf = get_tf(doc, word)\n",
    "    idf = get_idf(docs, word)\n",
    "    tf_idf[word] = tf * idf\n",
    "\n",
    "# Print TF-IDF for each word\n",
    "print(\"Term Frequency - Inverse Document Frequency (TF-IDF) for the given document:\\n\")\n",
    "for word, score in tf_idf.items():\n",
    "    print(word, \"-\", score)\n"
   ]
  }
 ],
 "metadata": {
  "kernelspec": {
   "display_name": "Python 3 (ipykernel)",
   "language": "python",
   "name": "python3"
  },
  "language_info": {
   "codemirror_mode": {
    "name": "ipython",
    "version": 3
   },
   "file_extension": ".py",
   "mimetype": "text/x-python",
   "name": "python",
   "nbconvert_exporter": "python",
   "pygments_lexer": "ipython3",
   "version": "3.10.11"
  }
 },
 "nbformat": 4,
 "nbformat_minor": 5
}
