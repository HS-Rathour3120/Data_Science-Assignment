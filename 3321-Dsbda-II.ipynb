{
 "cells": [
  {
   "cell_type": "code",
   "execution_count": 8,
   "id": "bf3bc8c4",
   "metadata": {},
   "outputs": [],
   "source": [
    "import numpy as np\n",
    "import pandas as pd\n",
    "import matplotlib.pyplot as plt"
   ]
  },
  {
   "cell_type": "code",
   "execution_count": 20,
   "id": "aa436752",
   "metadata": {},
   "outputs": [],
   "source": [
    "#Creating a sample academic performance performance dataset\n",
    "np.random.seed(123)\n",
    "data = {\n",
    "    'student_id':np.arange(1,101),\n",
    "    'gender':np.random.choice(['Male','Female'],100),\n",
    "    'age': np.random.randint(18,25,100),\n",
    "    'math_score':np.concatenate([np.random.normal(50,10,50),np.random.normal(70,5,50)]),\n",
    "    'english_score':np.concatenate([np.random.normal(50,8,50),np.random.normal(80,6,50)]),\n",
    "    'science_score':np.concatenate([np.random.normal(60,5,50),np.random.normal(75,4,50)])\n",
    "}\n",
    "df = pd.DataFrame(data)"
   ]
  },
  {
   "cell_type": "code",
   "execution_count": 21,
   "id": "6e4edf2a",
   "metadata": {},
   "outputs": [
    {
     "data": {
      "text/html": [
       "<div>\n",
       "<style scoped>\n",
       "    .dataframe tbody tr th:only-of-type {\n",
       "        vertical-align: middle;\n",
       "    }\n",
       "\n",
       "    .dataframe tbody tr th {\n",
       "        vertical-align: top;\n",
       "    }\n",
       "\n",
       "    .dataframe thead th {\n",
       "        text-align: right;\n",
       "    }\n",
       "</style>\n",
       "<table border=\"1\" class=\"dataframe\">\n",
       "  <thead>\n",
       "    <tr style=\"text-align: right;\">\n",
       "      <th></th>\n",
       "      <th>student_id</th>\n",
       "      <th>gender</th>\n",
       "      <th>age</th>\n",
       "      <th>math_score</th>\n",
       "      <th>english_score</th>\n",
       "      <th>science_score</th>\n",
       "    </tr>\n",
       "  </thead>\n",
       "  <tbody>\n",
       "    <tr>\n",
       "      <th>0</th>\n",
       "      <td>1</td>\n",
       "      <td>Male</td>\n",
       "      <td>19</td>\n",
       "      <td>36.258660</td>\n",
       "      <td>58.466243</td>\n",
       "      <td>61.208936</td>\n",
       "    </tr>\n",
       "    <tr>\n",
       "      <th>1</th>\n",
       "      <td>2</td>\n",
       "      <td>Female</td>\n",
       "      <td>22</td>\n",
       "      <td>48.219281</td>\n",
       "      <td>45.665448</td>\n",
       "      <td>42.941019</td>\n",
       "    </tr>\n",
       "    <tr>\n",
       "      <th>2</th>\n",
       "      <td>3</td>\n",
       "      <td>Male</td>\n",
       "      <td>20</td>\n",
       "      <td>58.831134</td>\n",
       "      <td>70.574197</td>\n",
       "      <td>62.569986</td>\n",
       "    </tr>\n",
       "    <tr>\n",
       "      <th>3</th>\n",
       "      <td>4</td>\n",
       "      <td>Male</td>\n",
       "      <td>19</td>\n",
       "      <td>44.269357</td>\n",
       "      <td>60.780926</td>\n",
       "      <td>63.923313</td>\n",
       "    </tr>\n",
       "    <tr>\n",
       "      <th>4</th>\n",
       "      <td>5</td>\n",
       "      <td>Male</td>\n",
       "      <td>19</td>\n",
       "      <td>68.779802</td>\n",
       "      <td>52.071567</td>\n",
       "      <td>68.443777</td>\n",
       "    </tr>\n",
       "    <tr>\n",
       "      <th>...</th>\n",
       "      <td>...</td>\n",
       "      <td>...</td>\n",
       "      <td>...</td>\n",
       "      <td>...</td>\n",
       "      <td>...</td>\n",
       "      <td>...</td>\n",
       "    </tr>\n",
       "    <tr>\n",
       "      <th>95</th>\n",
       "      <td>96</td>\n",
       "      <td>Female</td>\n",
       "      <td>24</td>\n",
       "      <td>71.053901</td>\n",
       "      <td>78.930707</td>\n",
       "      <td>76.790900</td>\n",
       "    </tr>\n",
       "    <tr>\n",
       "      <th>96</th>\n",
       "      <td>97</td>\n",
       "      <td>Female</td>\n",
       "      <td>19</td>\n",
       "      <td>69.272171</td>\n",
       "      <td>69.614481</td>\n",
       "      <td>74.190707</td>\n",
       "    </tr>\n",
       "    <tr>\n",
       "      <th>97</th>\n",
       "      <td>98</td>\n",
       "      <td>Male</td>\n",
       "      <td>24</td>\n",
       "      <td>64.875493</td>\n",
       "      <td>69.940892</td>\n",
       "      <td>78.163529</td>\n",
       "    </tr>\n",
       "    <tr>\n",
       "      <th>98</th>\n",
       "      <td>99</td>\n",
       "      <td>Male</td>\n",
       "      <td>24</td>\n",
       "      <td>61.213001</td>\n",
       "      <td>84.518356</td>\n",
       "      <td>84.373566</td>\n",
       "    </tr>\n",
       "    <tr>\n",
       "      <th>99</th>\n",
       "      <td>100</td>\n",
       "      <td>Male</td>\n",
       "      <td>18</td>\n",
       "      <td>63.754452</td>\n",
       "      <td>85.151750</td>\n",
       "      <td>72.385087</td>\n",
       "    </tr>\n",
       "  </tbody>\n",
       "</table>\n",
       "<p>100 rows × 6 columns</p>\n",
       "</div>"
      ],
      "text/plain": [
       "    student_id  gender  age  math_score  english_score  science_score\n",
       "0            1    Male   19   36.258660      58.466243      61.208936\n",
       "1            2  Female   22   48.219281      45.665448      42.941019\n",
       "2            3    Male   20   58.831134      70.574197      62.569986\n",
       "3            4    Male   19   44.269357      60.780926      63.923313\n",
       "4            5    Male   19   68.779802      52.071567      68.443777\n",
       "..         ...     ...  ...         ...            ...            ...\n",
       "95          96  Female   24   71.053901      78.930707      76.790900\n",
       "96          97  Female   19   69.272171      69.614481      74.190707\n",
       "97          98    Male   24   64.875493      69.940892      78.163529\n",
       "98          99    Male   24   61.213001      84.518356      84.373566\n",
       "99         100    Male   18   63.754452      85.151750      72.385087\n",
       "\n",
       "[100 rows x 6 columns]"
      ]
     },
     "execution_count": 21,
     "metadata": {},
     "output_type": "execute_result"
    }
   ],
   "source": [
    "df"
   ]
  },
  {
   "cell_type": "code",
   "execution_count": 22,
   "id": "519d1eba",
   "metadata": {},
   "outputs": [
    {
     "name": "stdout",
     "output_type": "stream",
     "text": [
      "81.99200914799698\n",
      "97.59286933670553\n",
      "84.88668814834952\n"
     ]
    }
   ],
   "source": [
    "print(df['math_score'].max())\n",
    "print(df['english_score'].max())\n",
    "print(df['science_score'].max())"
   ]
  },
  {
   "cell_type": "code",
   "execution_count": 23,
   "id": "8a792df4",
   "metadata": {},
   "outputs": [
    {
     "data": {
      "text/plain": [
       "student_id       0\n",
       "gender           0\n",
       "age              0\n",
       "math_score       0\n",
       "english_score    0\n",
       "science_score    0\n",
       "dtype: int64"
      ]
     },
     "execution_count": 23,
     "metadata": {},
     "output_type": "execute_result"
    }
   ],
   "source": [
    "#Checking for missing values\n",
    "df.isna().sum()"
   ]
  },
  {
   "cell_type": "code",
   "execution_count": 24,
   "id": "4caeb97b",
   "metadata": {},
   "outputs": [],
   "source": [
    "df['math_score'] = df['math_score'].astype(int)\n",
    "df['english_score'] = df['english_score'].astype(int)\n",
    "df['science_score'] = df['science_score'].astype(int)"
   ]
  },
  {
   "cell_type": "code",
   "execution_count": 25,
   "id": "39b3d246",
   "metadata": {},
   "outputs": [
    {
     "data": {
      "image/png": "[encoded data removed]",
      "text/plain": [
       "<Figure size 640x480 with 1 Axes>"
      ]
     },
     "metadata": {},
     "output_type": "display_data"
    }
   ],
   "source": [
    "#Check for Outliers\n",
    "df.boxplot(column=['math_score','english_score','science_score'])\n",
    "plt.show()"
   ]
  },
  {
   "cell_type": "code",
   "execution_count": null,
   "id": "2365ef36",
   "metadata": {},
   "outputs": [],
   "source": []
  },
  {
   "cell_type": "code",
   "execution_count": null,
   "id": "818dfbea",
   "metadata": {},
   "outputs": [],
   "source": []
  }
 ],
 "metadata": {
  "kernelspec": {
   "display_name": "Python 3 (ipykernel)",
   "language": "python",
   "name": "python3"
  },
  "language_info": {
   "codemirror_mode": {
    "name": "ipython",
    "version": 3
   },
   "file_extension": ".py",
   "mimetype": "text/x-python",
   "name": "python",
   "nbconvert_exporter": "python",
   "pygments_lexer": "ipython3",
   "version": "3.10.11"
  }
 },
 "nbformat": 4,
 "nbformat_minor": 5
}
